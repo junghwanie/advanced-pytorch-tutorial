{
 "cells": [
  {
   "cell_type": "code",
   "execution_count": 47,
   "metadata": {},
   "outputs": [
    {
     "ename": "AttributeError",
     "evalue": "'PngImageFile' object has no attribute 'view'",
     "output_type": "error",
     "traceback": [
      "\u001b[1;31m---------------------------------------------------------------------------\u001b[0m",
      "\u001b[1;31mAttributeError\u001b[0m                            Traceback (most recent call last)",
      "Cell \u001b[1;32mIn[47], line 31\u001b[0m\n\u001b[0;32m     17\u001b[0m image2 \u001b[38;5;241m=\u001b[39m Image\u001b[38;5;241m.\u001b[39mopen(image_path2)\n\u001b[0;32m     19\u001b[0m \u001b[38;5;66;03m# if max_size:\u001b[39;00m\n\u001b[0;32m     20\u001b[0m \u001b[38;5;66;03m#     scale = max_size / max(image.size)\u001b[39;00m\n\u001b[0;32m     21\u001b[0m \u001b[38;5;66;03m#     size = np.array(image.size) * scale\u001b[39;00m\n\u001b[1;32m   (...)\u001b[0m\n\u001b[0;32m     26\u001b[0m \u001b[38;5;66;03m#     image = torch.from_numpy(image)\u001b[39;00m\n\u001b[0;32m     27\u001b[0m \u001b[38;5;66;03m#     image = image.permute(2,0,1).contiguous()\u001b[39;00m\n\u001b[1;32m---> 31\u001b[0m f1 \u001b[38;5;241m=\u001b[39m \u001b[43mimage\u001b[49m\u001b[38;5;241;43m.\u001b[39;49m\u001b[43mview\u001b[49m(c, h\u001b[38;5;241m*\u001b[39mw)\n\u001b[0;32m     32\u001b[0m \u001b[38;5;66;03m#f2 = image2.view(c, h*w)\u001b[39;00m\n",
      "\u001b[1;31mAttributeError\u001b[0m: 'PngImageFile' object has no attribute 'view'"
     ]
    }
   ],
   "source": [
    "import torch\n",
    "from PIL import Image\n",
    "from torchvision import transforms\n",
    "\n",
    "import numpy as np\n",
    "import matplotlib.pyplot as plt\n",
    "import cv2\n",
    "\n",
    "\n",
    "# hyper-parameter configuration\n",
    "image_path = './01-advanced/neural_style_transfer/png/content.png'\n",
    "image_path2 = './01-advanced/neural_style_transfer/png/style.png'\n",
    "max_size = 400\n",
    "transform = True\n",
    "\n",
    "image = Image.open(image_path)\n",
    "image2 = Image.open(image_path2)\n",
    "\n",
    "if max_size:\n",
    "    scale = max_size / max(image.size)\n",
    "    size = np.array(image.size) * scale\n",
    "    image = image.resize(size.astype(int), Image.LANCZOS)\n",
    "\n",
    "if transform:\n",
    "    image = np.array(image)\n",
    "    image = torch.from_numpy(image)\n",
    "    image = image.permute(2,0,1).contiguous()\n",
    "\n",
    "\n",
    "\n",
    "\n",
    "\n"
   ]
  }
 ],
 "metadata": {
  "kernelspec": {
   "display_name": "pytorch",
   "language": "python",
   "name": "python3"
  },
  "language_info": {
   "codemirror_mode": {
    "name": "ipython",
    "version": 3
   },
   "file_extension": ".py",
   "mimetype": "text/x-python",
   "name": "python",
   "nbconvert_exporter": "python",
   "pygments_lexer": "ipython3",
   "version": "3.8.18"
  }
 },
 "nbformat": 4,
 "nbformat_minor": 2
}
